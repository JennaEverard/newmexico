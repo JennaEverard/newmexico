{
 "cells": [
  {
   "cell_type": "code",
   "execution_count": 2,
   "id": "9c1a25f8-ec00-4467-a2bc-6867159461ee",
   "metadata": {
    "tags": []
   },
   "outputs": [],
   "source": [
    "# Basic math functions\n",
    "import math\n",
    "from math import exp, sqrt, floor\n",
    "\n",
    "# For more complex math and data operations\n",
    "import pandas as pd\n",
    "import numpy as np\n",
    "import scipy.linalg as la\n",
    "\n",
    "# For plotting and mapping\n",
    "import matplotlib\n",
    "import matplotlib.pyplot as plt\n",
    "from matplotlib.colors import Normalize\n",
    "from matplotlib.cm import ScalarMappable\n",
    "\n",
    "# For displaying progress bars on code blocks\n",
    "# some functions take a long time to run, so this is helpful for sanity\n",
    "from tqdm import tqdm\n",
    "\n",
    "# For dealing with dates and times of seismic events\n",
    "from dateutil import parser\n",
    "from datetime import datetime, timedelta\n",
    "\n",
    "# For requesting data from within python\n",
    "import requests\n",
    "\n",
    "# obspy is a package for working with mseed seismic time series files\n",
    "# For finding p wave and s wave arrivals from time series\n",
    "import obspy\n",
    "from obspy.signal.trigger import ar_pick\n",
    "\n",
    "# For mapping\n",
    "import cartopy\n",
    "import cartopy.crs as ccrs"
   ]
  },
  {
   "cell_type": "code",
   "execution_count": 6,
   "id": "46aa97d6-362c-461e-8dcf-1a895f36fa22",
   "metadata": {
    "tags": []
   },
   "outputs": [],
   "source": [
    "# This file was already made\n",
    "station_metadata = pd.read_csv('station_metadata.csv')"
   ]
  },
  {
   "cell_type": "markdown",
   "id": "9c508681-5315-47e3-a5b0-935cffa31bbf",
   "metadata": {},
   "source": [
    "For the following code, I changed the start and end date for each seismic event to generate the list of network/station codes that have data for that event."
   ]
  },
  {
   "cell_type": "code",
   "execution_count": 15,
   "id": "c7569aad-a564-4e72-ab5a-4b2d814f386a",
   "metadata": {
    "tags": []
   },
   "outputs": [
    {
     "name": "stderr",
     "output_type": "stream",
     "text": [
      "Progress: 100%|██████████| 2295/2295 [17:46<00:00,  2.15it/s]"
     ]
    },
    {
     "name": "stdout",
     "output_type": "stream",
     "text": [
      "['GS', 'GS', 'GS', 'GS', 'IU', 'IU', 'IU', 'SC', 'SC', 'SC', 'TX', 'US', 'US']\n",
      "['ALQ1', 'ALQ2', 'ASL8', 'ASL9', 'ANMO', 'ANMO', 'ANMO', '121A', 'Y22A', 'Y22D', 'PB09', 'MNTX', 'MVCO']\n"
     ]
    },
    {
     "name": "stderr",
     "output_type": "stream",
     "text": [
      "\n"
     ]
    }
   ],
   "source": [
    "# Query BHZ\n",
    "start = '2023-04-30T05:20:00'\n",
    "end = '2023-04-30T05:25:00'\n",
    "Net = []\n",
    "Station = []\n",
    "\n",
    "total_iterations = len(station_metadata['Station'])\n",
    "progress_bar = tqdm(total=total_iterations, desc=\"Progress\")\n",
    "\n",
    "for i in range(0,len(station_metadata['Station'])):\n",
    "    url = 'http://service.iris.edu/fdsnws/dataselect/1/query?'\n",
    "    params = {\n",
    "        'net': station_metadata['Network'][i],\n",
    "        'sta': station_metadata['Station'][i],\n",
    "        'cha': 'BHZ',\n",
    "        'start': start,\n",
    "        'end': end,\n",
    "        'format': 'miniseed'\n",
    "    }\n",
    "    response = requests.get(url, params=params)\n",
    "    if response.status_code == 200:\n",
    "        with open(\"test.mseed\", 'wb') as f:\n",
    "            f.write(response.content)\n",
    "\n",
    "        test = obspy.read('test.mseed')\n",
    "        if test[0].data.max() > 800:\n",
    "            Net.append(station_metadata['Network'][i])\n",
    "            Station.append(station_metadata['Station'][i])\n",
    "\n",
    "    progress_bar.update(1)\n",
    "progress_bar.close()\n",
    "\n",
    "print(Net)\n",
    "print(Station)"
   ]
  },
  {
   "cell_type": "code",
   "execution_count": 9,
   "id": "b77d2800-8be6-443e-81f3-bf1277f80f09",
   "metadata": {
    "tags": []
   },
   "outputs": [],
   "source": [
    "progress_bar.close()"
   ]
  }
 ],
 "metadata": {
  "kernelspec": {
   "display_name": "Python 3 (ipykernel)",
   "language": "python",
   "name": "python3"
  },
  "language_info": {
   "codemirror_mode": {
    "name": "ipython",
    "version": 3
   },
   "file_extension": ".py",
   "mimetype": "text/x-python",
   "name": "python",
   "nbconvert_exporter": "python",
   "pygments_lexer": "ipython3",
   "version": "3.11.5"
  }
 },
 "nbformat": 4,
 "nbformat_minor": 5
}
