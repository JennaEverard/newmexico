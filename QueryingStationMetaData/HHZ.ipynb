{
 "cells": [
  {
   "cell_type": "code",
   "execution_count": 1,
   "id": "3dee674b-560c-4d2d-bfc3-ae07af0dcc55",
   "metadata": {
    "tags": []
   },
   "outputs": [],
   "source": [
    "# Basic math functions\n",
    "import math\n",
    "from math import exp, sqrt, floor\n",
    "\n",
    "# For more complex math and data operations\n",
    "import pandas as pd\n",
    "import numpy as np\n",
    "import scipy.linalg as la\n",
    "\n",
    "# For plotting and mapping\n",
    "import matplotlib\n",
    "import matplotlib.pyplot as plt\n",
    "from matplotlib.colors import Normalize\n",
    "from matplotlib.cm import ScalarMappable\n",
    "\n",
    "# For displaying progress bars on code blocks\n",
    "# some functions take a long time to run, so this is helpful for sanity\n",
    "from tqdm import tqdm\n",
    "\n",
    "# For dealing with dates and times of seismic events\n",
    "from dateutil import parser\n",
    "from datetime import datetime, timedelta\n",
    "\n",
    "# For requesting data from within python\n",
    "import requests\n",
    "\n",
    "# obspy is a package for working with mseed seismic time series files\n",
    "# For finding p wave and s wave arrivals from time series\n",
    "import obspy\n",
    "from obspy.signal.trigger import ar_pick\n",
    "\n",
    "# For mapping\n",
    "import cartopy\n",
    "import cartopy.crs as ccrs"
   ]
  },
  {
   "cell_type": "code",
   "execution_count": 2,
   "id": "c94b0a4f-b1c9-4fca-8a95-29727cb78d68",
   "metadata": {},
   "outputs": [],
   "source": [
    "# This file was already made\n",
    "station_metadata = pd.read_csv('station_metadata.csv')"
   ]
  },
  {
   "cell_type": "markdown",
   "id": "2ab5ee58-ec91-4171-9304-2aefe0f20ee9",
   "metadata": {},
   "source": [
    "For the following code, I changed the start and end date for each seismic event to generate the list of network/station codes that have data for that event."
   ]
  },
  {
   "cell_type": "code",
   "execution_count": 18,
   "id": "78f53508-1773-47ec-9aa9-fd51309bed29",
   "metadata": {
    "tags": []
   },
   "outputs": [
    {
     "name": "stderr",
     "output_type": "stream",
     "text": [
      "Progress: 100%|██████████| 2295/2295 [18:53<00:00,  2.02it/s]"
     ]
    },
    {
     "name": "stdout",
     "output_type": "stream",
     "text": [
      "['4T', '4T', '4T', 'AE', 'AE', 'AE', 'AE', 'C0', 'C0', 'GS', 'GS', 'GS', 'GS', 'GS', 'GS', 'GS', 'GS', 'GS', 'IU', 'IU', 'IU', 'N4', 'NX', 'NX', 'SC', 'SC', 'SC', 'SC', 'SC', 'SC', 'SC', 'SC', 'SC', 'SC', 'SC', 'SC', 'SC', 'SC', 'SC', 'SC', 'TX', 'TX', 'TX', 'TX', 'TX', 'TX', 'TX', 'TX', 'TX', 'TX', 'TX', 'TX', 'TX', 'TX', 'TX', 'TX', 'YX', 'YX', 'YX', 'YX', 'YX']\n",
      "['NM01', 'NM02', 'NM03', 'DUN6', 'HANNA', 'W18A', 'X18A', 'S22A', 'T25A', 'ALQ1', 'ALQ2', 'ASA1', 'ASA2', 'ASA3', 'ASA4', 'ASA5', 'ASA6', 'ASL9', 'ANMO', 'ANMO', 'ANMO', 'MSTX', 'WTX28', 'WTX36', 'CL7', 'CL7', 'CL7', 'CPRX', 'CPRX', 'CPRX', 'DAG', 'DAG', 'DAG', 'GDL2', 'GDL2', 'GDL2', 'HOB5', 'JAL', 'PDB', 'Y22D', 'MB01', 'MB01', 'MB07', 'MB07', 'ODSA', 'PB04', 'PB05', 'PB13', 'PB19', 'PB28', 'PB32', 'PB32', 'PB33', 'PCOS', 'RTBA', 'VHRN', 'UNM2', 'UNM4', 'UNM5', 'UNM6', 'UNM7']\n"
     ]
    },
    {
     "name": "stderr",
     "output_type": "stream",
     "text": [
      "\n"
     ]
    }
   ],
   "source": [
    "# Query HHZ\n",
    "start = '2023-04-30T05:20:00'\n",
    "end = '2023-04-30T05:25:00'\n",
    "Net = []\n",
    "Station = []\n",
    "\n",
    "total_iterations = len(station_metadata['Station'])\n",
    "progress_bar = tqdm(total=total_iterations, desc=\"Progress\")\n",
    "\n",
    "for i in range(0,len(station_metadata['Station'])):\n",
    "    url = 'http://service.iris.edu/fdsnws/dataselect/1/query?'\n",
    "    params = {\n",
    "        'net': station_metadata['Network'][i],\n",
    "        'sta': station_metadata['Station'][i],\n",
    "        'cha': 'HHZ',\n",
    "        'start': start,\n",
    "        'end': end,\n",
    "        'format': 'miniseed'\n",
    "    }\n",
    "    response = requests.get(url, params=params)\n",
    "    if response.status_code == 200:\n",
    "        with open(\"test.mseed\", 'wb') as f:\n",
    "            f.write(response.content)\n",
    "\n",
    "        test = obspy.read('test.mseed')\n",
    "        if test[0].data.max() > 800:\n",
    "            Net.append(station_metadata['Network'][i])\n",
    "            Station.append(station_metadata['Station'][i])\n",
    "\n",
    "    progress_bar.update(1)\n",
    "progress_bar.close()\n",
    "\n",
    "print(Net)\n",
    "print(Station)"
   ]
  },
  {
   "cell_type": "code",
   "execution_count": 13,
   "id": "40120aee-2f91-4d20-98be-a9279c11cfb0",
   "metadata": {
    "tags": []
   },
   "outputs": [],
   "source": [
    "progress_bar.close()"
   ]
  }
 ],
 "metadata": {
  "kernelspec": {
   "display_name": "Python 3 (ipykernel)",
   "language": "python",
   "name": "python3"
  },
  "language_info": {
   "codemirror_mode": {
    "name": "ipython",
    "version": 3
   },
   "file_extension": ".py",
   "mimetype": "text/x-python",
   "name": "python",
   "nbconvert_exporter": "python",
   "pygments_lexer": "ipython3",
   "version": "3.11.5"
  }
 },
 "nbformat": 4,
 "nbformat_minor": 5
}
